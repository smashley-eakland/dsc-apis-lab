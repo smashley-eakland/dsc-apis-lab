{
 "cells": [
  {
   "cell_type": "markdown",
   "metadata": {},
   "source": [
    "# APIs - Cumulative Lab\n",
    "\n",
    "\n",
    "## Introduction \n",
    "\n",
    "We've seen how the Yelp API works and how to create basic visualizations using Folium. It's time to put those skills to work in order to create a working map! Taking things a step further, you'll also independently explore how to perform pagination in order to retrieve a full results set from the Yelp API.\n",
    "\n",
    "## Objectives\n",
    "\n",
    "You will be able to: \n",
    "\n",
    "* Practice using functions to organize your code\n",
    "* Use pagination to retrieve all results from an API query\n",
    "* Practice parsing data returned from an API query\n",
    "* Practice interpreting visualizations of a dataset\n",
    "* Create maps using Folium"
   ]
  },
  {
   "cell_type": "markdown",
   "metadata": {},
   "source": [
    "## Your Task: Query Yelp for All Businesses in a Category and Analyze the Results\n",
    "\n",
    "![restaurant counter with pizza](images/restaurant_counter.jpg)\n",
    "\n",
    "Photo by <a href=\"https://unsplash.com/@jordanmadrid?utm_source=unsplash&utm_medium=referral&utm_content=creditCopyText\">Jordan Madrid</a> on <a href=\"/s/photos/pizza-restaurant?utm_source=unsplash&utm_medium=referral&utm_content=creditCopyText\">Unsplash</a>"
   ]
  },
  {
   "cell_type": "markdown",
   "metadata": {},
   "source": [
    "### Overview\n",
    "\n",
    "You've now worked with some API calls, but we have yet to see how to retrieve a more complete dataset in a programmatic manner. In this lab, you will write a query of businesses on Yelp, then use *pagination* to retrieve all possible results for that query. Then you will create a summary of your findings, including a Folium map of the geographic locations of those businesses.\n",
    "\n",
    "### Technical Details\n",
    "\n",
    "Returning to the Yelp API, the [documentation](https://www.yelp.com/developers/documentation/v3/business_search) also provides us details regarding the **API limits**. These often include details about the number of requests a user is allowed to make within a specified time limit and the maximum number of results to be returned. In this case, we are told that any request has a **maximum of 50 results per request** and defaults to 20. Furthermore, any search will be limited to a **total of 1000 results**. To retrieve all 1000 of these results, we would have to page through the results piece by piece, retrieving 50 at a time. Processes such as these are often referred to as pagination.\n",
    "\n",
    "Also, be mindful of the **API** ***rate*** **limits**. You can only make **5000 requests per day** and are also can make requests too fast. Start prototyping small before running a loop that could be faulty. You can also use `time.sleep(n)` to add delays. For more details see https://www.yelp.com/developers/documentation/v3/rate_limiting.\n",
    "\n",
    "In this lab, you will define a search and then paginate over the results to retrieve all of the results. You'll then parse these responses as a list of dictionaries (for further exploration) and create a map using Folium to visualize the results geographically.\n",
    "\n",
    "### Requirements\n",
    "\n",
    "#### 1. Make the Initial Request\n",
    "\n",
    "Start by filling in your API key to make the initial request to the business search API. Investigate the structure of the response you get back and start figuring out how you will extract the relevant information.\n",
    "\n",
    "#### 2. Add Pagination\n",
    "\n",
    "Using loops and functions, collect the maximum number of results for your query from the API.\n",
    "\n",
    "#### 3. Perform Exploratory Analysis\n",
    "\n",
    "Interpret visualizations related to the price range, average rating, and number of reviews for all query results.\n",
    "\n",
    "#### 4. Create a Folium Map\n",
    "\n",
    "Using latitude and longitude data, plot the query results on an interactive map."
   ]
  },
  {
   "cell_type": "markdown",
   "metadata": {},
   "source": [
    "## 1. Make the Initial Request\n",
    "\n",
    "### Querying\n",
    "\n",
    "Start by making an initial request to the Yelp API. Your search must include at least 2 parameters: **term** and **location**. For example, you might search for pizza restaurants in NYC. The term and location is up to you but make the request below.\n",
    "\n",
    "Use the `requests` library ([documentation here](https://requests.readthedocs.io/en/master/user/quickstart/#make-a-request)).\n",
    "\n",
    "You'll also need an API key from Yelp. If you haven't done this already, go to the Yelp [Manage App page](https://www.yelp.com/developers/v3/manage_app) and create a new app (after making an account if you haven't already)."
   ]
  },
  {
   "cell_type": "code",
   "execution_count": 3,
   "metadata": {},
   "outputs": [
    {
     "data": {
      "text/plain": [
       "<Response [200]>"
      ]
     },
     "execution_count": 3,
     "metadata": {},
     "output_type": "execute_result"
    }
   ],
   "source": [
    "# Replace None with appropriate code\n",
    "\n",
    "# Import the requests library\n",
    "import requests\n",
    "\n",
    "# Get this from the \"Manage App\" page. Make sure you set them\n",
    "# back to None before pushing this to GitHub, since otherwise\n",
    "# your credentials will be compromised\n",
    "\n",
    "api_key = Secret\n",
    "# These can be whatever you want! But the solution uses \"pizza\"\n",
    "# and \"New York NY\" if you want to compare your work directly\n",
    "term = \"pizza\"\n",
    "location = \"New York NY\"\n",
    "\n",
    "# Set up params for request\n",
    "url = \"https://api.yelp.com/v3/businesses/search\"\n",
    "headers = {\n",
    "    \"Authorization\": \"Bearer {}\".format(api_key)\n",
    "}\n",
    "url_params = {\n",
    "    \"term\": term.replace(\" \", \"+\"),\n",
    "    \"location\": location.replace(\" \", \"+\")\n",
    "}\n",
    "\n",
    "# Make the request using requests.get, passing in\n",
    "# url, headers=headers, and params=url_params\n",
    "response = requests.get(url, headers=headers,params=url_params)\n",
    "\n",
    "# Confirm we got a 200 response\n",
    "response"
   ]
  },
  {
   "cell_type": "code",
   "execution_count": 4,
   "metadata": {},
   "outputs": [
    {
     "data": {
      "text/plain": [
       "dict_keys(['businesses', 'total', 'region'])"
      ]
     },
     "execution_count": 4,
     "metadata": {},
     "output_type": "execute_result"
    }
   ],
   "source": [
    "# Run this cell without changes\n",
    "\n",
    "# Get the response body in JSON format\n",
    "response_json = response.json()\n",
    "# View the keys\n",
    "response_json.keys()"
   ]
  },
  {
   "cell_type": "markdown",
   "metadata": {},
   "source": [
    "### Extracting Data\n",
    "\n",
    "Now, retrieve the value associated with the `'businesses'` key, and inspect its contents."
   ]
  },
  {
   "cell_type": "code",
   "execution_count": 5,
   "metadata": {},
   "outputs": [
    {
     "data": {
      "text/plain": [
       "[{'id': 'zj8Lq1T8KIC5zwFief15jg',\n",
       "  'alias': 'prince-street-pizza-new-york-2',\n",
       "  'name': 'Prince Street Pizza',\n",
       "  'image_url': 'https://s3-media3.fl.yelpcdn.com/bphoto/ZAukOyv530w4KjOHC5YY1w/o.jpg',\n",
       "  'is_closed': False,\n",
       "  'url': 'https://www.yelp.com/biz/prince-street-pizza-new-york-2?adjust_creative=wz2InU2L-EEwAL6Mo91ySQ&utm_campaign=yelp_api_v3&utm_medium=api_v3_business_search&utm_source=wz2InU2L-EEwAL6Mo91ySQ',\n",
       "  'review_count': 4083,\n",
       "  'categories': [{'alias': 'pizza', 'title': 'Pizza'},\n",
       "   {'alias': 'italian', 'title': 'Italian'}],\n",
       "  'rating': 4.5,\n",
       "  'coordinates': {'latitude': 40.72308755605564,\n",
       "   'longitude': -73.99453001177575},\n",
       "  'transactions': ['pickup', 'delivery'],\n",
       "  'price': '$',\n",
       "  'location': {'address1': '27 Prince St',\n",
       "   'address2': None,\n",
       "   'address3': '',\n",
       "   'city': 'New York',\n",
       "   'zip_code': '10012',\n",
       "   'country': 'US',\n",
       "   'state': 'NY',\n",
       "   'display_address': ['27 Prince St', 'New York, NY 10012']},\n",
       "  'phone': '+12129664100',\n",
       "  'display_phone': '(212) 966-4100',\n",
       "  'distance': 1961.8771417367063},\n",
       " {'id': 'WG639VkTjmK5dzydd1BBJA',\n",
       "  'alias': 'rubirosa-new-york-2',\n",
       "  'name': 'Rubirosa',\n",
       "  'image_url': 'https://s3-media4.fl.yelpcdn.com/bphoto/LuSzR8cpVQRofXOT_bMi1A/o.jpg',\n",
       "  'is_closed': False,\n",
       "  'url': 'https://www.yelp.com/biz/rubirosa-new-york-2?adjust_creative=wz2InU2L-EEwAL6Mo91ySQ&utm_campaign=yelp_api_v3&utm_medium=api_v3_business_search&utm_source=wz2InU2L-EEwAL6Mo91ySQ',\n",
       "  'review_count': 2506,\n",
       "  'categories': [{'alias': 'italian', 'title': 'Italian'},\n",
       "   {'alias': 'pizza', 'title': 'Pizza'}],\n",
       "  'rating': 4.5,\n",
       "  'coordinates': {'latitude': 40.722766, 'longitude': -73.996233},\n",
       "  'transactions': ['pickup', 'delivery'],\n",
       "  'price': '$$',\n",
       "  'location': {'address1': '235 Mulberry St',\n",
       "   'address2': '',\n",
       "   'address3': '',\n",
       "   'city': 'New York',\n",
       "   'zip_code': '10012',\n",
       "   'country': 'US',\n",
       "   'state': 'NY',\n",
       "   'display_address': ['235 Mulberry St', 'New York, NY 10012']},\n",
       "  'phone': '+12129650500',\n",
       "  'display_phone': '(212) 965-0500',\n",
       "  'distance': 1932.9467701334759}]"
      ]
     },
     "execution_count": 5,
     "metadata": {},
     "output_type": "execute_result"
    }
   ],
   "source": [
    "# Replace None with appropriate code\n",
    "\n",
    "# Retrieve the value from response_json\n",
    "businesses = response_json['businesses']\n",
    "\n",
    "# View the first 2 records\n",
    "businesses[:2]"
   ]
  },
  {
   "cell_type": "markdown",
   "metadata": {},
   "source": [
    "### Preparing Data\n",
    "\n",
    "Write a function `prepare_data` that takes in a list of dictionaries like `businesses` and returns a copy that has been prepared for analysis:\n",
    "\n",
    "1. The `coordinates` key-value pair has been converted into two separate key-value pairs, `latitude` and `longitude`\n",
    "2. All other key-value pairs except for `name`, `review_count`, `rating`, and `price` have been dropped\n",
    "3. All dictionaries missing one of the relevant keys or containing null values have been dropped\n",
    "\n",
    "In other words, the final keys for each dictionary should be `name`, `review_count`, `rating`, `price`, `latitude`, and `longitude`.\n",
    "\n",
    "Complete the function in the cell below:"
   ]
  },
  {
   "cell_type": "code",
   "execution_count": 6,
   "metadata": {},
   "outputs": [
    {
     "data": {
      "text/plain": [
       "[{'name': 'Prince Street Pizza',\n",
       "  'review_count': 4083,\n",
       "  'rating': 4.5,\n",
       "  'price': '$',\n",
       "  'latitude': 40.72308755605564,\n",
       "  'longitude': -73.99453001177575},\n",
       " {'name': 'Rubirosa',\n",
       "  'review_count': 2506,\n",
       "  'rating': 4.5,\n",
       "  'price': '$$',\n",
       "  'latitude': 40.722766,\n",
       "  'longitude': -73.996233},\n",
       " {'name': \"Juliana's\",\n",
       "  'review_count': 2369,\n",
       "  'rating': 4.5,\n",
       "  'price': '$$',\n",
       "  'latitude': 40.70274718768062,\n",
       "  'longitude': -73.99343490196397},\n",
       " {'name': \"Lombardi's Pizza\",\n",
       "  'review_count': 6227,\n",
       "  'rating': 4.0,\n",
       "  'price': '$$',\n",
       "  'latitude': 40.7215934960083,\n",
       "  'longitude': -73.9955956044561},\n",
       " {'name': 'Lucali',\n",
       "  'review_count': 1740,\n",
       "  'rating': 4.0,\n",
       "  'price': '$$',\n",
       "  'latitude': 40.6818,\n",
       "  'longitude': -74.00024}]"
      ]
     },
     "execution_count": 6,
     "metadata": {},
     "output_type": "execute_result"
    }
   ],
   "source": [
    "# Replace None with appropriate code\n",
    "\n",
    "def prepare_data(data_list):\n",
    "    \"\"\"\n",
    "    This function takes in a list of dictionaries and prepares it\n",
    "    for analysis\n",
    "    \"\"\"\n",
    "    \n",
    "    # Make a new list to hold results\n",
    "    results = []\n",
    "    \n",
    "    for business_data in data_list:\n",
    "    \n",
    "        # Make a new dictionary to hold prepared data for this business\n",
    "        prepared_data = {}\n",
    "        \n",
    "        # Extract name, review_count, rating, and price key-value pairs\n",
    "        # from business_data and add to prepared_data\n",
    "        # If a key is not present in business_data, add it to prepared_data\n",
    "        # with an associated value of None\n",
    "        for key in (\"name\", \"review_count\", \"rating\", \"price\"):\n",
    "            prepared_data[key] = business_data.get(key, None)\n",
    "    \n",
    "        # Parse and add latitude and longitude columns\n",
    "        coordinates = business_data[\"coordinates\"]\n",
    "        prepared_data[\"latitude\"] = coordinates[\"latitude\"]\n",
    "        prepared_data[\"longitude\"] = coordinates[\"longitude\"]\n",
    "        \n",
    "        \n",
    "        # Add to list if all values are present\n",
    "        if all(prepared_data.values()):\n",
    "            results.append(prepared_data)\n",
    "    \n",
    "    return results\n",
    "    \n",
    "# Test out function\n",
    "prepared_businesses = prepare_data(businesses)\n",
    "prepared_businesses[:5]"
   ]
  },
  {
   "cell_type": "markdown",
   "metadata": {},
   "source": [
    "Check that your function created the correct keys:"
   ]
  },
  {
   "cell_type": "code",
   "execution_count": 7,
   "metadata": {},
   "outputs": [],
   "source": [
    "# Run this cell without changes\n",
    "\n",
    "assert sorted(list(prepared_businesses[0].keys())) == ['latitude', 'longitude', 'name', 'price', 'rating', 'review_count']"
   ]
  },
  {
   "cell_type": "markdown",
   "metadata": {},
   "source": [
    "The following code will differ depending on your query, but we expect there to be 20 businesses in the original list, and potentially fewer in the prepared list (if any of them were missing data):"
   ]
  },
  {
   "cell_type": "code",
   "execution_count": 8,
   "metadata": {},
   "outputs": [
    {
     "name": "stdout",
     "output_type": "stream",
     "text": [
      "Original: 20\n",
      "Prepared: 20\n"
     ]
    }
   ],
   "source": [
    "# Run this cell without changes\n",
    "print(\"Original:\", len(businesses))\n",
    "print(\"Prepared:\", len(prepared_businesses))"
   ]
  },
  {
   "cell_type": "markdown",
   "metadata": {},
   "source": [
    "Great! We will reuse this function once we have retrieved the full dataset."
   ]
  },
  {
   "cell_type": "markdown",
   "metadata": {},
   "source": [
    "## 2. Add Pagination\n",
    "\n",
    "Now that you are able to extract information from one page of the response, let's figure out how to request as many pages as possible.\n",
    "\n",
    "### Determining the Total\n",
    "\n",
    "Depending on the number of total results for your query, you will either retrieve all of the results, or just the first 1000 (if there are more than 1000 total).\n",
    "\n",
    "We can find the total number of results using the `\"total\"` key:"
   ]
  },
  {
   "cell_type": "code",
   "execution_count": 9,
   "metadata": {},
   "outputs": [
    {
     "data": {
      "text/plain": [
       "240"
      ]
     },
     "execution_count": 9,
     "metadata": {},
     "output_type": "execute_result"
    }
   ],
   "source": [
    "# Run this cell without changes\n",
    "response_json[\"total\"]"
   ]
  },
  {
   "cell_type": "markdown",
   "metadata": {},
   "source": [
    "(This is specific to the implementation of the Yelp API. Some APIs will just tell you that there are more pages, or will tell you the number of pages total, rather than the total number of results. If you're not sure, always check the documentation.)\n",
    "\n",
    "In the cell below, assign the variable `total` to either the value shown above (if it is less than 1000), or 1000."
   ]
  },
  {
   "cell_type": "code",
   "execution_count": 10,
   "metadata": {},
   "outputs": [],
   "source": [
    "# Replace None with appropriate code\n",
    "total = 240"
   ]
  },
  {
   "cell_type": "markdown",
   "metadata": {},
   "source": [
    "### Calculating the Offsets\n",
    "\n",
    "The documentation states in the parameters section:\n",
    "\n",
    "> **Name**: `limit`, **Type:** int, **Description:** Optional. Number of business results to return. By default, it will return 20. Maximum is 50.\n",
    "\n",
    "> **Name**: `offset`, **Type:** int, **Description:** Optional. Offset the list of returned business results by this amount.\n",
    "\n",
    "So, to get the most results with the fewest API calls we want to set a limit of 50 every time. If, say, we wanted to get 210 total results, that would mean:\n",
    "\n",
    "1. Offset of `0` (first 50 records)\n",
    "2. Offset of `50` (second 50 records)\n",
    "3. Offset of `100` (third 50 records)\n",
    "4. Offset of `150` (fourth 50 records)\n",
    "5. Offset of `200` (final 10 records)\n",
    "\n",
    "In the cell below, create a function `get_offsets` that takes in a total and returns a list of offsets for that total. You can assume that there is a limit of 50 every time.\n",
    "\n",
    "*Hint: you can use `range` ([documentation here](https://docs.python.org/3.3/library/stdtypes.html?highlight=range#range)) to do this in one line of code. Just make the returned result is a list.*"
   ]
  },
  {
   "cell_type": "code",
   "execution_count": 13,
   "metadata": {},
   "outputs": [],
   "source": [
    "# Replace None with appropriate code\n",
    "def get_offsets(total):\n",
    "    \"\"\"\n",
    "    Get a list of offsets needed to get all pages\n",
    "    of data up until the total\n",
    "    \"\"\"\n",
    "    return list(range(0, total, 50))"
   ]
  },
  {
   "cell_type": "markdown",
   "metadata": {},
   "source": [
    "Check that your function works below:"
   ]
  },
  {
   "cell_type": "code",
   "execution_count": 14,
   "metadata": {},
   "outputs": [],
   "source": [
    "# Run this cell without changes\n",
    "\n",
    "assert get_offsets(200) == [0, 50, 100, 150]\n",
    "assert get_offsets(210) == [0, 50, 100, 150, 200]"
   ]
  },
  {
   "cell_type": "markdown",
   "metadata": {},
   "source": [
    "### Putting It All Together\n",
    "\n",
    "Recall that the following variable has already been declared for you:"
   ]
  },
  {
   "cell_type": "code",
   "execution_count": 15,
   "metadata": {},
   "outputs": [
    {
     "data": {
      "text/plain": [
       "{'term': 'pizza', 'location': 'New+York+NY'}"
      ]
     },
     "execution_count": 15,
     "metadata": {},
     "output_type": "execute_result"
    }
   ],
   "source": [
    "# Run this cell without changes\n",
    "url_params"
   ]
  },
  {
   "cell_type": "markdown",
   "metadata": {},
   "source": [
    "We'll go ahead and also specify that the limit should be 50 every time:"
   ]
  },
  {
   "cell_type": "code",
   "execution_count": 16,
   "metadata": {},
   "outputs": [],
   "source": [
    "# Run this cell without changes\n",
    "url_params[\"limit\"] = 50"
   ]
  },
  {
   "cell_type": "markdown",
   "metadata": {},
   "source": [
    "In order to modify the offset, you'll need to add it to `url_params` with the key `\"offset\"` and whatever value is needed.\n",
    "\n",
    "In the cell below, write code that:\n",
    "\n",
    "* Creates an empty list for the full prepared dataset\n",
    "* Loops over all of the offsets from `get_offsets` and makes an API call each time with the specified offset\n",
    "* Calls `prepare_data` to get a cleaned version of the result of each API call\n",
    "* Extends the full prepared dataset list with each query's prepared dataset"
   ]
  },
  {
   "cell_type": "code",
   "execution_count": 17,
   "metadata": {},
   "outputs": [
    {
     "data": {
      "text/plain": [
       "204"
      ]
     },
     "execution_count": 17,
     "metadata": {},
     "output_type": "execute_result"
    }
   ],
   "source": [
    "# Replace None with appropriate code\n",
    "\n",
    "# Create an empty list for the full prepared dataset\n",
    "full_dataset = []\n",
    "\n",
    "for offset in get_offsets(total):\n",
    "    # Add or update the \"offset\" key-value pair in url_params\n",
    "    url_params['offset'] = offset\n",
    "    \n",
    "    # Make the query and get the response\n",
    "    response = requests.get(url, headers=headers, params=url_params)\n",
    "    \n",
    "    # Get the response body in JSON format\n",
    "    response_json = response.json()\n",
    "    \n",
    "    # Get the list of businesses from the response_json\n",
    "    businesses = response_json['businesses']\n",
    "    \n",
    "    # Call the prepare_data function to get a list of processed data\n",
    "    prepared_businesses = prepare_data(businesses)\n",
    "    \n",
    "    # Extend full_dataset with this list (don't append, or you'll get\n",
    "    # a list of lists instead of a flat list)\n",
    "    full_dataset.extend(prepared_businesses)\n",
    "\n",
    "# Check the length of the full dataset. It will be up to `total`,\n",
    "# potentially less if there were missing values\n",
    "len(full_dataset)"
   ]
  },
  {
   "cell_type": "markdown",
   "metadata": {},
   "source": [
    "This code may take up to a few minutes to run.\n",
    "\n",
    "If you get an error trying to get the response body in JSON format, try adding `time.sleep(1)` right after the `requests.get` line, so your code will sleep for 1 second between each API call."
   ]
  },
  {
   "cell_type": "markdown",
   "metadata": {},
   "source": [
    "## 3. Perform Exploratory Analysis\n",
    "\n",
    "Take the businesses from the previous question and do an initial exploratory analysis. We have provided some plots for you to interpret:"
   ]
  },
  {
   "cell_type": "code",
   "execution_count": 18,
   "metadata": {},
   "outputs": [
    {
     "data": {
      "image/png": "[encoded data removed]",
      "text/plain": [
       "<Figure size 1152x360 with 3 Axes>"
      ]
     },
     "metadata": {
      "needs_background": "light"
     },
     "output_type": "display_data"
    }
   ],
   "source": [
    "# Run this cell without changes\n",
    "from collections import Counter\n",
    "import matplotlib.pyplot as plt\n",
    "%matplotlib inline\n",
    "\n",
    "fig, (ax1, ax2, ax3) = plt.subplots(ncols=3, figsize=(16, 5))\n",
    "\n",
    "# Plot distribution of number of reviews\n",
    "all_review_counts = [x[\"review_count\"] for x in full_dataset]\n",
    "ax1.hist(all_review_counts)\n",
    "ax1.set_title(\"Review Count Distribution\")\n",
    "ax1.set_xlabel(\"Number of Reviews\")\n",
    "ax1.set_ylabel(\"Number of Businesses\")\n",
    "\n",
    "# Plot rating distribution\n",
    "all_ratings = [x[\"rating\"] for x in full_dataset]\n",
    "rating_counter = Counter(all_ratings)\n",
    "rating_keys = sorted(rating_counter.keys())\n",
    "ax2.bar(rating_keys, [rating_counter[key] for key in rating_keys])\n",
    "ax2.set_title(\"Rating Distribution\")\n",
    "ax2.set_xlabel(\"Rating\")\n",
    "ax2.set_ylabel(\"Number of Businesses\")\n",
    "\n",
    "# Plot price distribution\n",
    "all_prices = [x[\"price\"].replace(\"$\", r\"\\$\") for x in full_dataset]\n",
    "price_counter = Counter(all_prices)\n",
    "price_keys = sorted(price_counter.keys())\n",
    "ax3.bar(price_keys, [price_counter[key] for key in price_keys])\n",
    "ax3.set_title(\"Price Distribution\")\n",
    "ax3.set_xlabel(\"Price Category\")\n",
    "ax3.set_ylabel(\"Number of Businesses\");"
   ]
  },
  {
   "cell_type": "markdown",
   "metadata": {},
   "source": [
    "Describe the distributions displayed above and interpret them in the context of your query. (Your answer may differ from the solution branch depending on your query.)"
   ]
  },
  {
   "cell_type": "code",
   "execution_count": 19,
   "metadata": {},
   "outputs": [
    {
     "name": "stdout",
     "output_type": "stream",
     "text": [
      " Looks like the majority of businesses tend to have review numbers in the 0-500 range, with it trailingoff in the right tail direction. \n",
      "Most reviews tend to be in the 3.6 to 4.4 range. There is a secondary group in the 4.4 to 4.8 range. \n",
      "These restaurants tend to range in the $ and $$ price range with very few ranking in the $$$ and $$$$. $$ price is the most common reviewed price point in this dataset.\n",
      "\n"
     ]
    }
   ],
   "source": [
    "# Replace None with appropriate text\n",
    "print(\"\"\" Looks like the majority of businesses tend to have review numbers in the 0-500 range, with it trailing\\\n",
    "off in the right tail direction. \\\n",
    "\n",
    "Most reviews tend to be in the 3.6 to 4.4 range. There is a secondary group in the 4.4 to 4.8 range. \\\n",
    "\n",
    "These restaurants tend to range in the $ and $$ price range with very few ranking in the $$$ and $$$$. $$ price \\\n",
    "is the most common reviewed price point in this dataset.\n",
    "\"\"\")"
   ]
  },
  {
   "cell_type": "markdown",
   "metadata": {},
   "source": [
    "In the cell below, we also plot the rating distributions by price. In this setup, a price of one dollar sign is \"lower price\" and everything else is \"higher price\"."
   ]
  },
  {
   "cell_type": "code",
   "execution_count": 20,
   "metadata": {},
   "outputs": [
    {
     "data": {
      "image/png": "[encoded data removed]",
      "text/plain": [
       "<Figure size 432x288 with 1 Axes>"
      ]
     },
     "metadata": {
      "needs_background": "light"
     },
     "output_type": "display_data"
    }
   ],
   "source": [
    "# Run this cell without changes\n",
    "\n",
    "higher_price = []\n",
    "lower_price = []\n",
    "for row in full_dataset:\n",
    "    if row[\"price\"] == \"$\":\n",
    "        lower_price.append(row[\"rating\"])\n",
    "    else:\n",
    "        higher_price.append(row[\"rating\"])\n",
    "        \n",
    "fig, ax = plt.subplots()\n",
    "\n",
    "ax.hist([higher_price, lower_price], label=[\"higher price\", \"lower price\"], density=True)\n",
    "\n",
    "ax.legend();"
   ]
  },
  {
   "cell_type": "markdown",
   "metadata": {},
   "source": [
    "Is a higher price associated with a higher rating? (No need for any additional math/statistics, just interpret what you see in the plot.)"
   ]
  },
  {
   "cell_type": "code",
   "execution_count": 21,
   "metadata": {},
   "outputs": [
    {
     "name": "stdout",
     "output_type": "stream",
     "text": [
      " In this dataset, no, higher cost does not seem to correlate with higher rating. The blue bar is higherat the 4.0 rating than the lower price orange bar, but at the 4.5 rating, the lower priced orange bar surpasses the blue bar. They are dead even at thr 4.75-5 range, and very close down at the 3.5 rating.\n",
      "\n"
     ]
    }
   ],
   "source": [
    "# Replace None with appropriate text\n",
    "print(\"\"\" In this dataset, no, higher cost does not seem to correlate with higher rating. The blue bar is higher\\\n",
    "at the 4.0 rating than the lower price orange bar, but at the 4.5 rating, the lower priced orange bar surpasses \\\n",
    "the blue bar. They are dead even at thr 4.75-5 range, and very close down at the 3.5 rating.\n",
    "\"\"\")"
   ]
  },
  {
   "cell_type": "markdown",
   "metadata": {},
   "source": [
    "Finally, let's look at ratings vs. review counts:"
   ]
  },
  {
   "cell_type": "code",
   "execution_count": 22,
   "metadata": {},
   "outputs": [
    {
     "data": {
      "image/png": "[encoded data removed]",
      "text/plain": [
       "<Figure size 1152x360 with 1 Axes>"
      ]
     },
     "metadata": {
      "needs_background": "light"
     },
     "output_type": "display_data"
    }
   ],
   "source": [
    "# Run this cell without changes\n",
    "fig, ax = plt.subplots(figsize=(16,5))\n",
    "\n",
    "ax.scatter(all_review_counts, all_ratings, alpha=0.2)\n",
    "ax.set_xlabel(\"Number of Reviews\")\n",
    "ax.set_ylabel(\"Rating\")\n",
    "# \"zoom in\" to a subset of review counts\n",
    "ax.set_xlim(left=0, right=1000);"
   ]
  },
  {
   "cell_type": "markdown",
   "metadata": {},
   "source": [
    "Is a higher number of reviews associated with a higher rating?"
   ]
  },
  {
   "cell_type": "code",
   "execution_count": 23,
   "metadata": {},
   "outputs": [
    {
     "name": "stdout",
     "output_type": "stream",
     "text": [
      "This is a bit hard to decipher, but perhaps. The 4 and 4.5 ratings DO indeed have many more ratingsthan the lower rating values and counts. However, the 5.0 rating has VERY few reviews which would contradict that.\n",
      "\n"
     ]
    }
   ],
   "source": [
    "# Replace None with appropriate text\n",
    "print(\"\"\"This is a bit hard to decipher, but perhaps. The 4 and 4.5 ratings DO indeed have many more ratings\\\n",
    "than the lower rating values and counts. However, the 5.0 rating has VERY few reviews which would contradict \\\n",
    "that.\n",
    "\"\"\")"
   ]
  },
  {
   "cell_type": "markdown",
   "metadata": {},
   "source": [
    "## 4. Create a Folium Map\n",
    "\n",
    "Make a map using Folium of the businesses you retrieved. Be sure to also add popups to the markers giving some basic information such as name, rating and price.\n",
    "\n",
    "You can center the map around the latitude and longitude of the first item in `full_dataset`."
   ]
  },
  {
   "cell_type": "code",
   "execution_count": 25,
   "metadata": {},
   "outputs": [
    {
     "data": {
      "text/html": [
       "<div style=\"width:100%;\"><div style=\"position:relative;width:100%;height:0;padding-bottom:60%;\"><span style=\"color:#565656\">Make this Notebook Trusted to load map: File -> Trust Notebook</span><iframe src=\"about:blank\" style=\"position:absolute;width:100%;height:100%;left:0;top:0;border:none !important;\" data-html=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 onload=\"this.contentDocument.open();this.contentDocument.write(atob(this.getAttribute('data-html')));this.contentDocument.close();\" allowfullscreen webkitallowfullscreen mozallowfullscreen></iframe></div></div>"
      ],
      "text/plain": [
       "<folium.folium.Map at 0x7fb370c907c0>"
      ]
     },
     "execution_count": 25,
     "metadata": {},
     "output_type": "execute_result"
    }
   ],
   "source": [
    "# Replace None with appropriate code\n",
    "\n",
    "# Import the library\n",
    "import folium\n",
    "\n",
    "# Set up center latitude and longitude\n",
    "center_lat = 40.72308755605564\n",
    "center_long = -73.99453001177575\n",
    "\n",
    "# Initialize map with center lat and long\n",
    "yelp_map = folium.Map([center_lat,center_long],zoom_start=13)\n",
    "\n",
    "# Adjust this limit to see more or fewer businesses\n",
    "limit=100\n",
    "\n",
    "for business in full_dataset[:limit]:\n",
    "    # Extract information about business\n",
    "    lat = business['latitude']\n",
    "    long = business['longitude']\n",
    "    name = business['name']\n",
    "    rating = business['rating']\n",
    "    price = business['price']\n",
    "    details = \"{}\\nPrice: {} Rating:{}\".format(name,price,rating)\n",
    "    \n",
    "    # Create popup with relevant details\n",
    "    popup = folium.Popup(details, parse_html=True)\n",
    "    \n",
    "    # Create marker with relevant lat/long and popup\n",
    "    marker = folium.Marker(location=[lat,long], popup=popup)\n",
    "    \n",
    "    marker.add_to(yelp_map)\n",
    "    \n",
    "yelp_map"
   ]
  },
  {
   "cell_type": "markdown",
   "metadata": {},
   "source": [
    "## Summary\n",
    "\n",
    "Nice work! In this lab, you've made multiple API calls to Yelp in order to paginate through a results set, performing some basic exploratory analysis and then creating a nice interactive map to display the results using Folium! Well done!"
   ]
  }
 ],
 "metadata": {
  "kernelspec": {
   "display_name": "Python 3",
   "language": "python",
   "name": "python3"
  },
  "language_info": {
   "codemirror_mode": {
    "name": "ipython",
    "version": 3
   },
   "file_extension": ".py",
   "mimetype": "text/x-python",
   "name": "python",
   "nbconvert_exporter": "python",
   "pygments_lexer": "ipython3",
   "version": "3.8.5"
  },
  "toc": {
   "base_numbering": 1,
   "nav_menu": {},
   "number_sections": true,
   "sideBar": true,
   "skip_h1_title": false,
   "title_cell": "Table of Contents",
   "title_sidebar": "Contents",
   "toc_cell": false,
   "toc_position": {},
   "toc_section_display": true,
   "toc_window_display": false
  }
 },
 "nbformat": 4,
 "nbformat_minor": 2
}
